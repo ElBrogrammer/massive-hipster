{
 "metadata": {
  "name": "",
  "signature": "sha256:0d3afa985661006a75ed49a89805fe41fa4d3f564fc7c0a1c61f5dd2ad4997a8"
 },
 "nbformat": 3,
 "nbformat_minor": 0,
 "worksheets": [
  {
   "cells": [
    {
     "cell_type": "code",
     "collapsed": false,
     "input": [
      "import numpy as np\n",
      "import pandas as pd\n",
      "import matplotlib as mpl\n",
      "import matplotlib.pyplot as plt\n",
      "from bokeh.plotting import *\n",
      "from bokeh.objects import HoverTool\n",
      "from collections import OrderedDict\n",
      "output_notebook()"
     ],
     "language": "python",
     "metadata": {},
     "outputs": []
    },
    {
     "cell_type": "code",
     "collapsed": false,
     "input": [
      "data = [[23, 64, 14, 0, 0, 3, 1],\n",
      "        [0, 3, 35, 42, 0, 12, 1],\n",
      "        [0, 5, 5, 0, 40, 40, 0],\n",
      "        [44, 35, 9, 0, 1, 0, 0],\n",
      "        [0, 2, 8, 0, 35, 45, 1],\n",
      "        [0, 0, 25, 35, 0, 19, 0]]\n",
      "samples = ['Sample A', 'Sample B', 'Sample C', 'Sample D', 'Sample E', 'Sample F']\n",
      "species = ['Species 1', 'Species 2', 'Species 3', 'Species 4', 'Species 5', 'Species 6', 'Species 7']\n",
      "df = pd.DataFrame(data, columns=species, index=samples)\n",
      "df"
     ],
     "language": "python",
     "metadata": {},
     "outputs": []
    },
    {
     "cell_type": "code",
     "collapsed": false,
     "input": [
      "df = pd.read_csv('data/otu_table_mc1_w_tax_even700.txt', sep='\\t', skiprows=1, index_col=\"#OTU ID\")\n",
      "df = df.drop(['taxonomy'], axis=1)\n",
      "df = df.T\n",
      "samples = df.index.tolist()"
     ],
     "language": "python",
     "metadata": {},
     "outputs": []
    },
    {
     "cell_type": "code",
     "collapsed": false,
     "input": [
      "species = map(str, df.columns.tolist())\n",
      "species"
     ],
     "language": "python",
     "metadata": {},
     "outputs": []
    },
    {
     "cell_type": "code",
     "collapsed": false,
     "input": [
      "plot_data = {'samples': [], 'species': [], 'abundances': []}\n",
      "for sample in samples:\n",
      "    for sp in species:\n",
      "        plot_data['samples'].append(sample)\n",
      "        plot_data['species'].append(sp)\n",
      "        plot_data['abundances'].append(df[sp][sample])\n",
      "rgba_colors = plt.get_cmap('jet')(mpl.colors.Normalize()(plot_data['abundances']))\n",
      "hex_colors = [mpl.colors.rgb2hex(rgba) for rgba in rgba_colors]\n",
      "plot_data['colors'] = hex_colors"
     ],
     "language": "python",
     "metadata": {},
     "outputs": []
    },
    {
     "cell_type": "code",
     "collapsed": false,
     "input": [
      "source = ColumnDataSource(data=plot_data)\n",
      "\n",
      "output_file('yolo.html')\n",
      "\n",
      "figure()\n",
      "\n",
      "rect('samples', 'species', 1, 1, source=source,\n",
      "     x_range=samples, y_range=list(reversed(species)),\n",
      "     color='colors', line_color=None,\n",
      "     tools=\"resize,hover,previewsave\", title=\"Figure 1: YOLO\",\n",
      "     plot_width=900, plot_height=400)\n",
      "\n",
      "grid().grid_line_color = None\n",
      "axis().axis_line_color = None\n",
      "axis().major_tick_line_color = None\n",
      "axis().major_label_text_font_size = \"10pt\"\n",
      "axis().major_label_standoff = 0\n",
      "xaxis().location = \"top\"\n",
      "\n",
      "hover = [t for t in curplot().tools if isinstance(t, HoverTool)][0]\n",
      "hover.tooltips = OrderedDict([\n",
      "    ('Sample ID', '@samples'),\n",
      "    ('Species ID', '@species'),\n",
      "    ('Abundance', '@abundances'),\n",
      "])\n",
      "\n",
      "show()"
     ],
     "language": "python",
     "metadata": {},
     "outputs": []
    }
   ],
   "metadata": {}
  }
 ]
}